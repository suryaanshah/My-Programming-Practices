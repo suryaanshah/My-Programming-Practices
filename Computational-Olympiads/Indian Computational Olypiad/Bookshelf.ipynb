{
  "nbformat": 4,
  "nbformat_minor": 0,
  "metadata": {
    "colab": {
      "name": "Indian Computational Olypiad",
      "provenance": []
    },
    "kernelspec": {
      "name": "python3",
      "display_name": "Python 3"
    },
    "language_info": {
      "name": "python"
    }
  },
  "cells": [
    {
      "cell_type": "markdown",
      "metadata": {
        "id": "55cFwkSOEAqf"
      },
      "source": [
        "# The Bookshelf"
      ]
    },
    {
      "cell_type": "code",
      "metadata": {
        "colab": {
          "base_uri": "https://localhost:8080/"
        },
        "id": "tB-bCEsRC--M",
        "outputId": "59cda325-3cc7-4df8-e3a6-ee1f581916d8"
      },
      "source": [
        "N=input(\"Enter the number of rounds:\")\n",
        "Lead={\"1\":-1, \"2\":-1}\n",
        "for round in range(1, int(N)+1):\n",
        "    S, T = input(\"Enter the scores of p1 and p2 repectively. Space-seperated: \").split()\n",
        "    if S>T and Lead[\"1\"]<(int(S)-int(T)):\n",
        "        Lead[\"1\"]=int(S)-int(T)\n",
        "    elif S<T and Lead[\"2\"]<(int(T)-int(S)):\n",
        "        Lead[\"2\"]=int(T)-int(S)\n",
        "if Lead[\"2\"]>Lead[\"1\"]:\n",
        "    print(2, Lead[\"2\"])\n",
        "elif Lead[\"1\"]>Lead[\"2\"]:\n",
        "    print(1, Lead[\"1\"])\n"
      ],
      "execution_count": null,
      "outputs": [
        {
          "output_type": "stream",
          "text": [
            "Enter the number of rounds:5\n",
            "Enter the scores of p1 and p2 repectively. Space-seperated140 82\n",
            "Enter the scores of p1 and p2 repectively. Space-seperated89 134\n",
            "Enter the scores of p1 and p2 repectively. Space-seperated90 110\n",
            "Enter the scores of p1 and p2 repectively. Space-seperated112 106\n",
            "Enter the scores of p1 and p2 repectively. Space-seperated88 90\n",
            "1 6\n"
          ],
          "name": "stdout"
        }
      ]
    },
    {
      "cell_type": "code",
      "metadata": {
        "id": "o_HDB77Gxq1z"
      },
      "source": [
        "# Plan:\n",
        "# Take the scores in input and store 'em in 2 lists.\n",
        "# Iterate through each and compare the score and add them to the respective lead list.\n",
        "# compare the max of lead lists and decide the winner.\n",
        "import itertools\n",
        "N=input(\"Enter the number of rounds:\")\n",
        "Tsc=[]\n",
        "Ssc=[]\n",
        "Slead=[]\n",
        "Tlead=[]\n",
        "for round in range(1, int(N)+1):\n",
        "    S, T = input(\"Enter the scores of p1 and p2 repectively. Space-seperated: \").split()\n",
        "    Ssc.append(S)\n",
        "    Tsc.append(T)\n",
        "for (Si, Ti) in zip(Ssc, Tsc):\n",
        "    if Si>Ti:\n",
        "        lead= int(Si)-int(Ti)\n",
        "        Slead.append(lead)\n",
        "    elif Ti>Si:\n",
        "        lead=int(Ti)-int(Si)\n",
        "        Tlead.append(lead)\n",
        "print(Slead, Tlead)\n",
        "if max(Tlead)>max(Slead):\n",
        "    print(2, max(Tlead))\n",
        "elif max(Slead)>max(Tlead):\n",
        "    print(1, max(Slead))\n"
      ],
      "execution_count": null,
      "outputs": []
    }
  ]
}
